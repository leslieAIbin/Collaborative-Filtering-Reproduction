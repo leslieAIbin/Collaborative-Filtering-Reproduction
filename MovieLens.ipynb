{
 "cells": [
  {
   "cell_type": "code",
   "execution_count": 62,
   "metadata": {
    "collapsed": false
   },
   "outputs": [],
   "source": [
    "import numpy as np\n",
    "\n",
    "num_user = 943\n",
    "num_movie = 1682\n",
    "# num_ratings = 100000\n",
    "all_mean = 0\n",
    "# user_mean = np.zeros(num_user,dtype=int)\n",
    "# movie_mean = np.zeros(num_movie,dtype=int)\n",
    "\n",
    "def load_data(filename):\n",
    "    '''Load training data from dataset'''\n",
    "    f = open('dataset/ml-100k/' + filename, 'rt')\n",
    "    t = 0\n",
    "    ratings = np.zeros((num_user, num_movie), dtype=int).reshape(num_user, num_movie)\n",
    "    for line in f.readlines():\n",
    "        user, movie, rating = [int(x) for x in line.split()[:3]]\n",
    "        if t % 10000 == 0:\n",
    "            print('Loading %6d case: ' % t, user, movie, rating)\n",
    "        ratings[user - 1, movie - 1] = rating\n",
    "        t += 1\n",
    "    print('Loading complete.')\n",
    "    print(np.size(ratings))\n",
    "    return ratings\n",
    "    "
   ]
  },
  {
   "cell_type": "code",
   "execution_count": 63,
   "metadata": {
    "collapsed": false
   },
   "outputs": [],
   "source": [
    "def cal_mean():\n",
    "    '''Calculate mean value'''\n",
    "    global all_mean, user_mean, movie_mean\n",
    "    all_mean = np.mean(ratings[ratings!=0])\n",
    "    user_mean = sum(ratings.T) / sum((ratings!=0).T)\n",
    "    movie_mean = sum(ratings) / sum((ratings!=0))\n",
    "    print(np.isnan(user_mean).any(), np.isnan(movie_mean).any())\n",
    "    # Replace NaN to all_mean.\n",
    "    user_mean = np.where(np.isnan(user_mean), all_mean, user_mean)\n",
    "    movie_mean = np.where(np.isnan(movie_mean), all_mean, movie_mean)\n",
    "    print(np.isnan(user_mean).any(), np.isnan(movie_mean).any())\n",
    "    print('Mean rating of all movies is ', round(all_mean,2))"
   ]
  },
  {
   "cell_type": "code",
   "execution_count": 64,
   "metadata": {
    "collapsed": false
   },
   "outputs": [],
   "source": [
    "def predict_naive(user_id, movie_id):\n",
    "    '''Naive predict method'''\n",
    "#     if np.isnan(movie_mean[movie_id]):\n",
    "#         prediction = round(user_mean[user_id]);\n",
    "#     else:\n",
    "    prediction = round(movie_mean[movie_id] + user_mean[user_id] - all_mean, 2)\n",
    "    return prediction"
   ]
  },
  {
   "cell_type": "code",
   "execution_count": 65,
   "metadata": {
    "collapsed": false
   },
   "outputs": [],
   "source": [
    "def rmse(predictions, targets):\n",
    "    return np.sum(np.square(predictions-targets))/np.size(predictions)"
   ]
  },
  {
   "cell_type": "code",
   "execution_count": 66,
   "metadata": {
    "collapsed": false
   },
   "outputs": [],
   "source": [
    "def test(filename):\n",
    "    global predictions, targets\n",
    "    f = open('dataset/ml-100k/' + filename, 'rt')\n",
    "    predictions = []\n",
    "    targets = []\n",
    "    for line in f.readlines():\n",
    "        user, movie, real_rating = [int(x) for x in line.split()[:3]]\n",
    "        guess_rating = predict_naive(user-1, movie-1)\n",
    "        predictions.append(guess_rating)\n",
    "        targets.append(real_rating)\n",
    "    predictions = np.array(predictions,dtype=np.double)\n",
    "    targets = np.array(targets,dtype=np.double)\n",
    "    loss = rmse(predictions, targets)\n",
    "    print('Loss = ', round(loss,2))"
   ]
  },
  {
   "cell_type": "code",
   "execution_count": 67,
   "metadata": {
    "collapsed": false
   },
   "outputs": [
    {
     "name": "stdout",
     "output_type": "stream",
     "text": [
      "Loading      0 case:  1 1 5\n",
      "Loading  10000 case:  189 207 5\n",
      "Loading  20000 case:  334 689 3\n",
      "Loading  30000 case:  445 895 2\n",
      "Loading  40000 case:  535 42 3\n",
      "Loading  50000 case:  642 66 5\n",
      "Loading  60000 case:  744 657 5\n",
      "Loading  70000 case:  849 121 5\n",
      "Loading complete.\n",
      "1586126\n",
      "False True\n",
      "False False\n",
      "Mean rating of all movies is  3.53\n"
     ]
    },
    {
     "name": "stderr",
     "output_type": "stream",
     "text": [
      "/Users/irmo/anaconda/lib/python3.5/site-packages/ipykernel/__main__.py:6: RuntimeWarning: invalid value encountered in true_divide\n"
     ]
    },
    {
     "name": "stdout",
     "output_type": "stream",
     "text": [
      "Loss =  0.96\n"
     ]
    }
   ],
   "source": [
    "ratings = load_data('u1.base')\n",
    "# all_ratings = load_data('u.data')\n",
    "cal_mean()\n",
    "test('u1.test')"
   ]
  },
  {
   "cell_type": "code",
   "execution_count": 68,
   "metadata": {
    "collapsed": false
   },
   "outputs": [
    {
     "data": {
      "text/plain": [
       "array([ 2.27272727,  2.        ,  2.28571429,  3.33333333,  3.7       ,\n",
       "        2.88235294,  4.02857143,  3.21428571,  3.45283019,  3.28125   ,\n",
       "        3.27160494,  3.48780488,  2.24137931,  2.97368421,  3.14285714,\n",
       "        3.44954128,  3.21212121,  3.14814815,  3.91666667,  3.85714286,\n",
       "        3.75862069,  3.25925926,  2.57142857,  3.53846154,  2.81081081,\n",
       "        2.5       ,  2.66666667,  3.04587156,  2.16666667,  2.23529412,\n",
       "        2.28571429,  3.125     ,  2.88461538,  2.76190476,  3.18518519,\n",
       "        2.85      ,  1.95      ,  2.6875    ,  4.05797101,  2.73684211,\n",
       "        3.22222222,  3.        ,  3.2       ,  3.16129032,  3.28571429,\n",
       "        3.16216216,  2.81132075,  3.03389831,  2.63157895,  3.66666667,\n",
       "        3.27777778,  2.33333333,  3.47368421,  2.58823529,  3.2       ,\n",
       "        3.125     ,  2.33333333,  3.5       ,  2.82142857,  3.09677419,\n",
       "        2.83333333,  3.63636364,  3.72972973,  4.25      ,  3.4       ,\n",
       "        3.07142857,  3.47222222,  3.4       ,  3.2       ,  3.72      ,\n",
       "        2.81818182,  2.33333333,  3.84615385,  2.95384615,  3.33333333,\n",
       "        2.27272727,  3.14285714,  2.82352941,  2.15      ,  4.        ,\n",
       "        2.8       ,  2.6       ,  2.25      ,  3.82352941,  3.44444444,\n",
       "        3.05882353,  1.77777778,  2.3       ,  2.16666667,  2.51724138,\n",
       "        2.71428571,  2.33333333,  3.2       ,  2.5       ,  2.82352941,\n",
       "        2.66666667,  3.4       ,  3.72413793,  3.44444444,  2.66666667,\n",
       "        3.72413793,  2.66666667,  3.5625    ,  1.        ,  2.64285714,\n",
       "        3.        ,  3.23076923,  2.        ,  3.6       ,  2.82857143,\n",
       "        3.42857143,  2.71428571,  3.28571429,  3.11111111,  3.375     ,\n",
       "        3.875     ,  2.92857143,  3.42105263,  3.7173913 ,  3.14285714,\n",
       "        3.7       ,  5.        ,  4.        ,  3.8       ,  4.33333333,\n",
       "        3.23076923,  2.66666667,  2.77777778,  3.5       ,  4.        ,\n",
       "        4.125     ,  2.53846154,  2.8       ,  3.32258065,  3.02564103,\n",
       "        3.34782609,  3.76190476,  3.4       ,  2.58333333,  2.26666667,\n",
       "        2.8       ,  4.17647059,  3.83333333,  3.66666667,  2.66666667,\n",
       "        2.        ,  3.46153846,  3.125     ,  3.85714286,  3.5       ,\n",
       "        2.5       ,  3.37037037,  3.28571429,  3.2       ,  3.33333333,\n",
       "        3.52835   ,  2.9       ,  4.        ,  3.54545455,  3.61111111,\n",
       "        2.875     ,  1.33333333,  2.71428571,  2.        ,  2.        ,\n",
       "        3.4       ,  3.88888889,  3.41176471,  4.        ,  3.        ,\n",
       "        3.14285714,  3.8       ,  2.57142857,  3.57142857,  3.        ,\n",
       "        3.35      ,  2.        ,  2.5       ,  2.        ,  2.8       ,\n",
       "        2.375     ,  2.2       ,  2.13333333,  2.5       ,  2.27777778,\n",
       "        3.        ,  3.3       ,  2.55555556,  5.        ,  3.125     ,\n",
       "        4.33333333,  3.4       ,  3.77777778,  4.        ,  3.3       ,\n",
       "        3.        ,  3.43243243,  3.25      ,  2.78947368,  3.16666667,\n",
       "        5.        ,  4.        ,  3.88888889,  3.61111111,  3.        ,\n",
       "        2.7       ,  2.45454545,  2.8125    ,  2.45454545,  2.5       ,\n",
       "        3.66666667,  3.        ,  2.        ,  2.        ,  1.96      ,\n",
       "        3.        ,  2.96666667,  3.4       ,  2.93333333,  3.42857143,\n",
       "        3.47222222,  2.63157895,  3.        ,  2.77777778,  2.66666667,\n",
       "        3.36      ,  2.8       ,  2.36842105,  1.8       ,  1.90909091,\n",
       "        2.36842105,  2.09090909,  3.5       ,  2.375     ,  4.        ,\n",
       "        3.52835   ,  3.6       ,  3.28571429,  2.91666667,  3.75      ,\n",
       "        3.        ,  2.        ,  3.71428571,  2.8125    ,  3.07142857,\n",
       "        1.2       ,  2.        ,  3.15384615,  2.9       ,  1.        ,\n",
       "        4.125     ,  2.875     ,  2.33333333,  1.9       ,  2.25      ,\n",
       "        2.        ,  2.        ,  2.31578947,  2.        ,  3.        ,\n",
       "        3.        ,  3.83333333,  2.9       ,  3.16666667,  3.0625    ,\n",
       "        3.4       ,  3.03703704,  3.44444444,  3.88888889,  2.33333333,\n",
       "        2.5       ,  2.33333333,  2.84615385,  1.875     ,  3.        ,\n",
       "        2.28571429,  3.375     ,  3.64285714,  2.875     ,  2.6875    ,\n",
       "        3.        ,  3.5       ,  2.78571429,  2.90909091,  3.15384615,\n",
       "        3.5       ,  1.33333333,  3.33333333,  2.        ,  1.5       ,\n",
       "        2.15384615,  2.        ,  5.        ,  3.4       ,  3.2       ,\n",
       "        3.27777778,  3.        ,  3.6       ,  3.        ,  2.66666667,\n",
       "        4.        ,  3.        ,  2.3125    ,  2.5       ,  2.66666667,\n",
       "        1.        ,  1.        ,  1.        ,  3.52835   ,  3.52835   ,\n",
       "        2.5       ,  3.25      ,  3.27272727,  2.        ,  3.1       ,\n",
       "        2.        ,  2.33333333,  2.        ,  1.75      ,  3.52835   ,\n",
       "        2.5       ,  2.5       ,  2.66666667,  2.75      ,  1.        ,\n",
       "        3.33333333,  3.        ,  3.        ,  1.        ,  3.        ,\n",
       "        3.        ,  3.        ,  3.25      ,  1.        ,  2.63636364,\n",
       "        1.85714286,  2.33333333,  2.66666667,  1.        ,  1.        ,\n",
       "        1.        ,  4.        ,  3.52835   ,  3.75      ,  2.        ,\n",
       "        2.        ,  3.33333333,  3.52835   ,  1.        ,  1.        ,\n",
       "        2.5       ,  1.        ,  2.66666667,  1.        ,  2.66666667,\n",
       "        2.66666667,  2.        ,  3.        ,  1.        ,  2.        ,\n",
       "        3.5       ,  3.        ,  1.        ,  3.52835   ,  1.5       ,\n",
       "        1.        ,  4.66666667,  3.75      ,  3.33333333,  3.5       ,\n",
       "        2.        ,  2.5       ,  3.52835   ,  1.        ,  3.88888889,\n",
       "        1.75      ,  4.        ,  2.33333333,  3.16666667,  2.33333333,\n",
       "        3.25      ,  2.        ,  2.2       ,  2.        ,  3.25      ,\n",
       "        3.        ,  2.5       ,  3.8       ,  3.        ,  3.        ,\n",
       "        2.        ,  2.25      ,  2.33333333,  2.66666667,  2.6       ,\n",
       "        4.25      ,  3.        ,  4.        ,  2.42857143,  3.125     ,\n",
       "        2.84615385,  2.75      ,  2.33333333,  3.2       ,  3.        ,\n",
       "        3.25      ,  2.23529412,  1.        ,  3.4       ,  2.75      ,\n",
       "        2.45      ,  1.66666667,  2.42857143,  2.        ,  2.44444444,\n",
       "        2.25      ,  2.        ,  3.5       ,  2.21428571,  1.33333333,\n",
       "        3.33333333,  2.25      ,  2.25      ,  3.        ,  2.5       ,\n",
       "        3.25      ,  3.        ,  3.72727273,  2.75      ,  3.        ,\n",
       "        3.4       ,  1.        ,  2.        ,  2.66666667,  2.83333333,\n",
       "        2.        ,  2.        ,  1.66666667,  3.        ,  3.        ,\n",
       "        2.4       ,  2.25      ,  3.66666667,  2.53333333,  2.75      ,\n",
       "        2.92307692,  3.        ,  3.66666667,  4.71428571,  3.        ,\n",
       "        3.81818182,  4.        ,  2.        ,  3.        ,  3.        ,\n",
       "        3.6       ,  3.52835   ,  3.52835   ,  3.33333333,  3.        ,\n",
       "        2.        ,  3.6       ,  2.5       ,  1.5       ,  2.33333333,\n",
       "        4.2       ,  5.        ,  3.33333333,  3.4       ,  2.5       ,\n",
       "        2.2       ,  3.5       ,  3.375     ,  2.83333333,  2.875     ,\n",
       "        2.        ,  3.        ,  2.6       ,  2.66666667,  2.4       ,\n",
       "        3.        ,  4.        ,  3.41666667,  2.5       ,  3.33333333,\n",
       "        1.        ,  2.33333333,  3.        ,  2.        ,  3.        ,\n",
       "        3.        ,  3.52835   ,  3.52835   ,  1.        ,  3.        ,\n",
       "        2.8       ,  4.        ,  3.52835   ,  3.25      ,  5.        ,\n",
       "        3.5       ,  1.5       ,  3.6       ,  3.5       ,  3.52835   ,\n",
       "        3.66666667,  3.        ,  3.        ,  1.6       ,  3.        ,\n",
       "        3.2       ,  4.        ,  2.        ,  3.14285714,  4.        ,\n",
       "        4.        ,  2.66666667,  3.        ,  4.        ,  3.52835   ,\n",
       "        3.        ,  2.5       ,  3.        ,  4.16666667,  4.        ,\n",
       "        4.        ,  2.16666667,  2.33333333,  2.75      ,  2.        ,\n",
       "        3.66666667,  2.        ,  3.52835   ,  1.8       ,  3.        ,\n",
       "        3.52835   ,  4.        ,  3.        ,  1.75      ,  2.8       ,\n",
       "        3.5       ,  3.        ,  3.52835   ,  2.66666667,  2.5       ,\n",
       "        1.        ,  3.        ,  1.        ,  1.5       ,  3.        ,\n",
       "        2.        ,  2.        ,  2.75      ,  2.        ,  3.        ,\n",
       "        2.        ,  3.52835   ,  3.57142857,  1.        ,  2.75      ,\n",
       "        3.52835   ,  3.52835   ,  3.52835   ,  1.        ,  3.52835   ,\n",
       "        1.        ,  1.        ,  1.        ,  1.        ,  1.        ,\n",
       "        1.        ,  1.        ,  2.5       ,  1.        ,  1.        ,\n",
       "        1.        ,  1.        ,  3.        ,  1.        ,  1.        ,\n",
       "        1.        ,  3.52835   ,  1.        ,  1.        ,  2.5       ,\n",
       "        3.52835   ,  1.        ,  2.        ,  3.        ,  2.        ,\n",
       "        3.        ,  3.6       ,  4.        ,  4.5       ,  2.        ,\n",
       "        2.        ,  3.        ,  2.5       ,  5.        ,  3.75      ,\n",
       "        1.        ,  3.33333333,  3.        ,  4.        ,  3.        ,\n",
       "        2.        ,  3.33333333,  2.25      ,  1.66666667,  2.        ,\n",
       "        3.        ,  3.75      ,  4.        ,  3.        ,  3.        ,\n",
       "        4.        ,  3.        ,  1.        ,  3.        ,  3.22222222,\n",
       "        1.        ,  2.33333333,  4.        ,  2.        ,  4.        ,\n",
       "        1.        ,  3.        ,  3.75      ,  4.        ,  3.        ,\n",
       "        3.5       ,  3.        ,  3.        ,  2.        ,  3.        ,\n",
       "        4.        ,  3.        ,  3.        ,  4.33333333,  3.        ,\n",
       "        3.        ,  4.5       ,  3.75      ,  1.5       ,  4.        ,\n",
       "        3.5       ,  3.        ,  2.        ,  3.        ,  4.        ,\n",
       "        4.        ,  1.66666667,  5.        ,  1.        ,  2.        ,\n",
       "        3.5       ,  3.        ,  3.        ,  1.        ,  2.        ,\n",
       "        1.        ,  2.5       ,  2.        ,  3.25      ,  2.        ,\n",
       "        2.        ,  3.        ,  3.        ,  2.        ,  3.        ,\n",
       "        1.        ,  2.        ,  3.        ,  4.        ,  3.        ,\n",
       "        2.        ,  3.        ,  1.        ,  3.        ,  2.        ,\n",
       "        3.        ,  3.        ])"
      ]
     },
     "execution_count": 68,
     "metadata": {},
     "output_type": "execute_result"
    }
   ],
   "source": [
    "movie_mean[1000:1682]"
   ]
  },
  {
   "cell_type": "code",
   "execution_count": 69,
   "metadata": {
    "collapsed": false
   },
   "outputs": [
    {
     "name": "stdout",
     "output_type": "stream",
     "text": [
      "True\n"
     ]
    }
   ],
   "source": [
    "t = np.array([1,np.nan,3])\n",
    "print(np.isnan(t).any())"
   ]
  },
  {
   "cell_type": "code",
   "execution_count": null,
   "metadata": {
    "collapsed": true
   },
   "outputs": [],
   "source": []
  }
 ],
 "metadata": {
  "kernelspec": {
   "display_name": "Python 3",
   "language": "python",
   "name": "python3"
  },
  "language_info": {
   "codemirror_mode": {
    "name": "ipython",
    "version": 3
   },
   "file_extension": ".py",
   "mimetype": "text/x-python",
   "name": "python",
   "nbconvert_exporter": "python",
   "pygments_lexer": "ipython3",
   "version": "3.5.1"
  }
 },
 "nbformat": 4,
 "nbformat_minor": 0
}
